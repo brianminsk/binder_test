{
 "cells": [
  {
   "cell_type": "code",
   "execution_count": 9,
   "source": [
    "import ipycytoscape"
   ],
   "outputs": [],
   "metadata": {}
  },
  {
   "cell_type": "code",
   "execution_count": 11,
   "source": [
    "import json\r\n",
    "with open(\"graph_data.json\") as fi:\r\n",
    "    json_file = json.load(fi)"
   ],
   "outputs": [],
   "metadata": {}
  },
  {
   "cell_type": "code",
   "execution_count": 12,
   "source": [
    "cytoscapeobj = ipycytoscape.CytoscapeWidget()\r\n",
    "cytoscapeobj.graph.add_graph_from_json(json_file)\r\n",
    "cytoscapeobj.set_layout(name='klay', nodeDimensionsIncludeLabels=True)\r\n",
    "cytoscapeobj.set_style([{\r\n",
    "                        'selector': 'node',\r\n",
    "                        'css': {\r\n",
    "                            'content': 'data(name)',\r\n",
    "                            'text-valign': 'center',\r\n",
    "                            'color': 'white',\r\n",
    "                            'text-outline-width': 2,                            \r\n",
    "                        }\r\n",
    "                        },\r\n",
    "                        {\r\n",
    "                        'selector': 'node[classes=\"genre\"]',\r\n",
    "                        'css': {\r\n",
    "                            'text-outline-color': '#c66b3d',\r\n",
    "                            'background-color': '#c66b3d'\r\n",
    "                        }\r\n",
    "                        },\r\n",
    "                        {\r\n",
    "                        'selector': 'node[classes=\"category\"]',\r\n",
    "                        'css': {\r\n",
    "                            'background-color': '#26495c',\r\n",
    "                            'text-outline-color': '#26495c'\r\n",
    "                        }\r\n",
    "                        },\r\n",
    "#                         {\r\n",
    "#                         'selector': 'node:parent',\r\n",
    "#                         'css': {\r\n",
    "#                             'background-opacity': 0.333\r\n",
    "#                             }\r\n",
    "#                         },\r\n",
    "                        {\r\n",
    "                            'selector': 'edge',\r\n",
    "                            'style': {\r\n",
    "                                'width': 4,\r\n",
    "                                'line-color': '#c4b491',\r\n",
    "                                #'target-arrow-shape': 'triangle',\r\n",
    "                                #'target-arrow-color': '#9dbaea',\r\n",
    "                                'curve-style': 'bezier'\r\n",
    "                            }\r\n",
    "                        }])    "
   ],
   "outputs": [],
   "metadata": {}
  },
  {
   "cell_type": "code",
   "execution_count": 13,
   "source": [
    "cytoscapeobj"
   ],
   "outputs": [
    {
     "output_type": "display_data",
     "data": {
      "text/plain": [
       "CytoscapeWidget(cytoscape_layout={'name': 'klay', 'nodeDimensionsIncludeLabels': True}, cytoscape_style=[{'sel…"
      ],
      "application/vnd.jupyter.widget-view+json": {
       "model_id": "8e0e12bdd7b94393854b5fc73bab4512",
       "version_major": 2,
       "version_minor": 0
      }
     },
     "metadata": {}
    }
   ],
   "metadata": {}
  },
  {
   "cell_type": "code",
   "execution_count": null,
   "source": [],
   "outputs": [],
   "metadata": {}
  }
 ],
 "metadata": {
  "kernelspec": {
   "display_name": "Python 3",
   "language": "python",
   "name": "python3"
  },
  "language_info": {
   "codemirror_mode": {
    "name": "ipython",
    "version": 3
   },
   "file_extension": ".py",
   "mimetype": "text/x-python",
   "name": "python",
   "nbconvert_exporter": "python",
   "pygments_lexer": "ipython3",
   "version": "3.8.5"
  }
 },
 "nbformat": 4,
 "nbformat_minor": 5
}