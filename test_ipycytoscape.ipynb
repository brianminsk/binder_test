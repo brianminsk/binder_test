{
 "cells": [
  {
   "cell_type": "code",
   "execution_count": 8,
   "id": "e349ad5c",
   "metadata": {},
   "outputs": [],
   "source": [
    "# Import the os module\n",
    "import os\n",
    "\n",
    "# Change the current working directory\n",
    "os.chdir('d:\\dataquest')"
   ]
  },
  {
   "cell_type": "code",
   "execution_count": 9,
   "id": "6cb34761",
   "metadata": {},
   "outputs": [],
   "source": [
    "import ipycytoscape"
   ]
  },
  {
   "cell_type": "code",
   "execution_count": 11,
   "id": "9c40ffb9",
   "metadata": {},
   "outputs": [],
   "source": [
    "import json\n",
    "with open(\"graph_data.json\") as fi:\n",
    "    json_file = json.load(fi)"
   ]
  },
  {
   "cell_type": "code",
   "execution_count": 12,
   "id": "8f205a02",
   "metadata": {},
   "outputs": [],
   "source": [
    "cytoscapeobj = ipycytoscape.CytoscapeWidget()\n",
    "cytoscapeobj.graph.add_graph_from_json(json_file)\n",
    "cytoscapeobj.set_layout(name='klay', nodeDimensionsIncludeLabels=True)\n",
    "cytoscapeobj.set_style([{\n",
    "                        'selector': 'node',\n",
    "                        'css': {\n",
    "                            'content': 'data(name)',\n",
    "                            'text-valign': 'center',\n",
    "                            'color': 'white',\n",
    "                            'text-outline-width': 2,                            \n",
    "                        }\n",
    "                        },\n",
    "                        {\n",
    "                        'selector': 'node[classes=\"genre\"]',\n",
    "                        'css': {\n",
    "                            'text-outline-color': '#c66b3d',\n",
    "                            'background-color': '#c66b3d'\n",
    "                        }\n",
    "                        },\n",
    "                        {\n",
    "                        'selector': 'node[classes=\"category\"]',\n",
    "                        'css': {\n",
    "                            'background-color': '#26495c',\n",
    "                            'text-outline-color': '#26495c'\n",
    "                        }\n",
    "                        },\n",
    "#                         {\n",
    "#                         'selector': 'node:parent',\n",
    "#                         'css': {\n",
    "#                             'background-opacity': 0.333\n",
    "#                             }\n",
    "#                         },\n",
    "                        {\n",
    "                            'selector': 'edge',\n",
    "                            'style': {\n",
    "                                'width': 4,\n",
    "                                'line-color': '#c4b491',\n",
    "                                #'target-arrow-shape': 'triangle',\n",
    "                                #'target-arrow-color': '#9dbaea',\n",
    "                                'curve-style': 'bezier'\n",
    "                            }\n",
    "                        }])    "
   ]
  },
  {
   "cell_type": "code",
   "execution_count": 13,
   "id": "5fcea10e",
   "metadata": {},
   "outputs": [
    {
     "data": {
      "application/vnd.jupyter.widget-view+json": {
       "model_id": "8e0e12bdd7b94393854b5fc73bab4512",
       "version_major": 2,
       "version_minor": 0
      },
      "text/plain": [
       "CytoscapeWidget(cytoscape_layout={'name': 'klay', 'nodeDimensionsIncludeLabels': True}, cytoscape_style=[{'sel…"
      ]
     },
     "metadata": {},
     "output_type": "display_data"
    }
   ],
   "source": [
    "cytoscapeobj"
   ]
  },
  {
   "cell_type": "code",
   "execution_count": null,
   "id": "3f87cee6",
   "metadata": {},
   "outputs": [],
   "source": []
  }
 ],
 "metadata": {
  "kernelspec": {
   "display_name": "Python 3",
   "language": "python",
   "name": "python3"
  },
  "language_info": {
   "codemirror_mode": {
    "name": "ipython",
    "version": 3
   },
   "file_extension": ".py",
   "mimetype": "text/x-python",
   "name": "python",
   "nbconvert_exporter": "python",
   "pygments_lexer": "ipython3",
   "version": "3.8.5"
  }
 },
 "nbformat": 4,
 "nbformat_minor": 5
}
